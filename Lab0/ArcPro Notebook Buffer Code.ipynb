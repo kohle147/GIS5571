{
 "cells": [
  {
   "cell_type": "markdown",
   "metadata": {},
   "source": [
    "### Buffer Around Routes in Notebooks in ArcPro"
   ]
  },
  {
   "cell_type": "code",
   "execution_count": null,
   "metadata": {},
   "outputs": [],
   "source": [
    "#ArcPy module for creating a buffer\n",
    "arcpy.analysis.Buffer(\n",
    "    in_features=\"Memorial_Routes_in_Minnesota\", #Input Feature Layer\n",
    "    out_feature_class=r\"\\\\Mac\\Home\\Documents\\ArcGIS\\Projects\\Lab00\\Lab00.gdb\\Memorial_Routes_Buffer_Notebook\",\n",
    "    buffer_distance_or_field=\"5 Miles\", #Distance and Units\n",
    "    line_end_type=\"ROUND\",#Shape of end type\n",
    "    dissolve_option=\"NONE\", #No dissolve\n",
    "    method=\"PLANAR\"\n",
    ")"
   ]
  }
 ],
 "metadata": {
  "kernelspec": {
   "display_name": "ArcGISPro",
   "language": "Python",
   "name": "python3"
  },
  "language_info": {
   "file_extension": ".py",
   "name": "python",
   "version": "3"
  }
 },
 "nbformat": 4,
 "nbformat_minor": 2
}
