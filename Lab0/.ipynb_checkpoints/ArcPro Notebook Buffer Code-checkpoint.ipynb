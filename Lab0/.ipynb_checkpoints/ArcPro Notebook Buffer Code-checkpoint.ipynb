{
 "cells": [
  {
   "cell_type": "markdown",
   "metadata": {},
   "source": [
    "### Buffer Around Routes in Notebooks in ArcPro"
   ]
  },
  {
   "cell_type": "code",
   "execution_count": 2,
   "metadata": {},
   "outputs": [
    {
     "ename": "ExecuteError",
     "evalue": "Failed to execute. Parameters are not valid.\nERROR 000725: Output Feature Class: Dataset \\\\Mac\\Home\\Documents\\ArcGIS\\Projects\\Lab00\\Lab00.gdb\\Memorial_Routes_Buffer_Notebook already exists.\nFailed to execute (Buffer).\n",
     "output_type": "error",
     "traceback": [
      "\u001b[0;31m---------------------------------------------------------------------------\u001b[0m\n\u001b[0;31mExecuteError\u001b[0m                              Traceback (most recent call last)",
      "In  \u001b[0;34m[2]\u001b[0m:\nLine \u001b[0;34m2\u001b[0m:     arcpy.analysis.Buffer(\n",
      "File \u001b[0;34mC:\\Program Files\\ArcGIS\\Pro\\Resources\\ArcPy\\arcpy\\analysis.py\u001b[0m, in \u001b[0;32mBuffer\u001b[0m:\nLine \u001b[0;34m1376\u001b[0m:  \u001b[34mraise\u001b[39;49;00m e\n",
      "File \u001b[0;34mC:\\Program Files\\ArcGIS\\Pro\\Resources\\ArcPy\\arcpy\\analysis.py\u001b[0m, in \u001b[0;32mBuffer\u001b[0m:\nLine \u001b[0;34m1373\u001b[0m:  retval = convertArcObjectToPythonObject(gp.Buffer_analysis(*gp_fixargs((in_features, out_feature_class, buffer_distance_or_field, line_side, line_end_type, dissolve_option, dissolve_field, method), \u001b[34mTrue\u001b[39;49;00m)))\n",
      "File \u001b[0;34mC:\\Program Files\\ArcGIS\\Pro\\Resources\\ArcPy\\arcpy\\geoprocessing\\_base.py\u001b[0m, in \u001b[0;32m<lambda>\u001b[0m:\nLine \u001b[0;34m512\u001b[0m:   \u001b[34mreturn\u001b[39;49;00m \u001b[34mlambda\u001b[39;49;00m *args: val(*gp_fixargs(args, \u001b[34mTrue\u001b[39;49;00m))\n",
      "\u001b[0;31mExecuteError\u001b[0m: Failed to execute. Parameters are not valid.\nERROR 000725: Output Feature Class: Dataset \\\\Mac\\Home\\Documents\\ArcGIS\\Projects\\Lab00\\Lab00.gdb\\Memorial_Routes_Buffer_Notebook already exists.\nFailed to execute (Buffer).\n\n\u001b[0;31m---------------------------------------------------------------------------\u001b[0m"
     ]
    }
   ],
   "source": [
    "#ArcPy module for creating a buffer\n",
    "arcpy.analysis.Buffer(\n",
    "    in_features=\"Memorial_Routes_in_Minnesota\", #Input Feature Layer\n",
    "    out_feature_class=r\"\\\\Mac\\Home\\Documents\\ArcGIS\\Projects\\Lab00\\Lab00.gdb\\Memorial_Routes_Buffer_Notebook\",\n",
    "    buffer_distance_or_field=\"5 Miles\", #Distance and Units\n",
    "    line_side=\"FULL\", \n",
    "    line_end_type=\"ROUND\",#Shape of end type\n",
    "    dissolve_option=\"NONE\", #No dissolve\n",
    "    dissolve_field=None,\n",
    "    method=\"PLANAR\"\n",
    ")"
   ]
  },
  {
   "cell_type": "code",
   "execution_count": null,
   "metadata": {},
   "outputs": [],
   "source": []
  }
 ],
 "metadata": {
  "kernelspec": {
   "display_name": "ArcGISPro",
   "language": "Python",
   "name": "python3"
  },
  "language_info": {
   "file_extension": ".py",
   "name": "python",
   "version": "3"
  }
 },
 "nbformat": 4,
 "nbformat_minor": 2
}
