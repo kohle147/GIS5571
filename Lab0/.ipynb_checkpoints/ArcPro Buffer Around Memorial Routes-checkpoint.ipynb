{
 "cells": [
  {
   "cell_type": "markdown",
   "metadata": {},
   "source": [
    "#Buffer Around Routes in Notebooks in ArcPro"
   ]
  },
  {
   "cell_type": "code",
   "execution_count": null,
   "metadata": {},
   "outputs": [],
   "source": [
    "arcpy.analysis.Buffer(\n",
    "    in_features=\"Memorial_Routes_in_Minnesota\",\n",
    "    out_feature_class=r\"\\\\Mac\\Home\\Documents\\ArcGIS\\Projects\\Lab00\\Lab00.gdb\\Memorial_Routes_Buffer_Notebook\",\n",
    "    buffer_distance_or_field=\"5 Miles\",\n",
    "    line_side=\"FULL\",\n",
    "    line_end_type=\"ROUND\",\n",
    "    dissolve_option=\"NONE\",\n",
    "    dissolve_field=None,\n",
    "    method=\"PLANAR\"\n",
    ")"
   ]
  },
  {
   "cell_type": "code",
   "execution_count": null,
   "metadata": {},
   "outputs": [],
   "source": []
  }
 ],
 "metadata": {
  "kernelspec": {
   "display_name": "ArcGISPro",
   "language": "Python",
   "name": "python3"
  },
  "language_info": {
   "file_extension": ".py",
   "name": "python",
   "version": "3"
  }
 },
 "nbformat": 4,
 "nbformat_minor": 2
}
