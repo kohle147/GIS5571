{
 "cells": [
  {
   "cell_type": "markdown",
   "metadata": {},
   "source": [
    "#### Import Modules"
   ]
  },
  {
   "cell_type": "code",
   "execution_count": 14,
   "metadata": {},
   "outputs": [],
   "source": [
    "import requests\n",
    "import shutil\n",
    "import geopandas\n",
    "import pandas\n",
    "from shapely.geometry import Point"
   ]
  },
  {
   "cell_type": "markdown",
   "metadata": {},
   "source": [
    "#### Download & Format CSV "
   ]
  },
  {
   "cell_type": "code",
   "execution_count": 15,
   "metadata": {
    "scrolled": false
   },
   "outputs": [],
   "source": [
    "#Define URL from NDAWN API\n",
    "ndurl = r'https://ndawn.ndsu.nodak.edu/table.csv?station=23&station=24&station=35&station=36&station=21&station=34&variable=ydr&ttype=yearly'\n",
    "#Define Name and Location of New CSV\n",
    "ndoutput = r'C:\\Users\\gregkohler1\\Documents\\GIS5571_Files\\Lab1\\Lab1Data\\NDAvgRainfall.csv'\n",
    "#Pulls CSV from URL\n",
    "ndresponse = requests.get(ndurl, stream=True)\n",
    "#Writing CSV to file on local drive if status code is correct.\n",
    "if ndresponse.status_code == 200:\n",
    "    with open(ndoutput, 'wb') as file:\n",
    "        file.write(ndresponse.content)\n",
    "else:\n",
    "    print(\"Wrong Status Code\")\n",
    "#Reads CSV file\n",
    "nddataframe = pandas.read_csv(r'C:\\Users\\gregkohler1\\Documents\\GIS5571_Files\\Lab1\\Lab1Data\\NDAvgRainfall.csv', skiprows=4, index_col=False)\n",
    "#Defines new names for CSV Headers\n",
    "new_names = ['Location', 'Lat', 'Long', 'Elevation ft', 'Year', 'Total Annual Rainfall', 'Number Missing', 'Number Estimated']\n",
    "nddataframe.columns = new_names\n",
    "#Saves New Names to CSV\n",
    "nddataframe.to_csv(r'C:\\Users\\gregkohler1\\Documents\\GIS5571_Files\\Lab1\\Lab1Data\\NDAvgRainfall.csv', index=False)"
   ]
  },
  {
   "cell_type": "markdown",
   "metadata": {},
   "source": [
    "#### CSV to Shapefile"
   ]
  },
  {
   "cell_type": "code",
   "execution_count": 16,
   "metadata": {
    "scrolled": false
   },
   "outputs": [
    {
     "name": "stderr",
     "output_type": "stream",
     "text": [
      "C:\\Users\\gregkohler1\\AppData\\Local\\ESRI\\conda\\envs\\arcgispro-py3-clone\\lib\\site-packages\\geopandas\\io\\file.py:299: FutureWarning: pandas.Int64Index is deprecated and will be removed from pandas in a future version. Use pandas.Index with the appropriate dtype instead.\n",
      "  pd.Int64Index,\n",
      "[16]:9: UserWarning: Column names longer than 10 characters will be truncated when saved to ESRI Shapefile.\n"
     ]
    }
   ],
   "source": [
    "#Read CSV \n",
    "nddataframe = pandas.read_csv(r'C:\\Users\\gregkohler1\\Documents\\GIS5571_Files\\Lab1\\Lab1Data\\NDAvgRainfall.csv')\n",
    "#Create points with lat and long coordinates\n",
    "ndgeometry = [Point(xy) for xy in zip(nddataframe['Long'], nddataframe['Lat'])]\n",
    "ndgeoframe = geopandas.GeoDataFrame(nddataframe, geometry=ndgeometry, crs='WGS84')\n",
    "#Filter to Only 2020\n",
    "ndgeoframe_2020 = ndgeoframe[nddataframe['Year'] == 2020]\n",
    "#Write geometry to shapefile\n",
    "ndgeoframe_2020.to_file(r'C:\\Users\\gregkohler1\\Documents\\GIS5571_Files\\Lab1\\Lab1Data\\NDAvgRainfall.shp') "
   ]
  },
  {
   "cell_type": "code",
   "execution_count": null,
   "metadata": {},
   "outputs": [],
   "source": []
  }
 ],
 "metadata": {
  "kernelspec": {
   "display_name": "ArcGISPro",
   "language": "Python",
   "name": "python3"
  },
  "language_info": {
   "file_extension": ".py",
   "name": "python",
   "version": "3"
  }
 },
 "nbformat": 4,
 "nbformat_minor": 2
}
