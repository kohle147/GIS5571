{
 "cells": [
  {
   "cell_type": "markdown",
   "metadata": {},
   "source": [
    "#### Import Modules"
   ]
  },
  {
   "cell_type": "code",
   "execution_count": 1,
   "metadata": {
    "scrolled": true
   },
   "outputs": [],
   "source": [
    "import requests\n",
    "import json\n",
    "import geopandas\n",
    "import matplotlib.pyplot as plt\n",
    "import urllib\n",
    "import shutil\n",
    "import zipfile"
   ]
  },
  {
   "cell_type": "markdown",
   "metadata": {},
   "source": [
    "#### Download and Save Shapefile"
   ]
  },
  {
   "cell_type": "code",
   "execution_count": 2,
   "metadata": {
    "scrolled": true
   },
   "outputs": [
    {
     "name": "stdout",
     "output_type": "stream",
     "text": [
      "Extracted to \"C:\\Users\\gregkohler1\\Documents\\GIS5571_Files\\Lab1\\Lab1Data\"\n"
     ]
    }
   ],
   "source": [
    "#Shapefile URl\n",
    "mndataurl = r'https://resources.gisdata.mn.gov/pub/gdrs/data/pub/us_mn_state_metc/trans_park_rides_transit_centers/shp_trans_park_rides_transit_centers.zip'\n",
    "#Path to Save Shapefile\n",
    "mnpath = r'C:\\Users\\gregkohler1\\Documents\\GIS5571_Files\\Lab1\\Lab1Data'\n",
    "#Name of Shapefile\n",
    "mnoutput = r'C:\\Users\\gregkohler1\\Documents\\GIS5571_Files\\Lab1\\Lab1Data\\MNTransitHubs.zip'\n",
    "#Get Shapefile from URL\n",
    "mnresponse = requests.get(mndataurl, stream=True)\n",
    "#Writes Shapefile to Local Disk\n",
    "if mnresponse.status_code == 200:\n",
    "    with open(mnoutput, 'wb') as file:\n",
    "        shutil.copyfileobj(mnresponse.raw, file) #\n",
    "#Extract Zip with Shapefiles\n",
    "    with zipfile.ZipFile(mnoutput, 'r') as zip_MN:\n",
    "        zip_MN.extractall(mnpath)\n",
    "        print(f'Extracted to \"{mnpath}\"')\n",
    "else:\n",
    "    print(\"Wrong Status Code\")\n"
   ]
  }
 ],
 "metadata": {
  "kernelspec": {
   "display_name": "ArcGISPro",
   "language": "Python",
   "name": "python3"
  },
  "language_info": {
   "file_extension": ".py",
   "name": "python",
   "version": "3"
  }
 },
 "nbformat": 4,
 "nbformat_minor": 2
}
