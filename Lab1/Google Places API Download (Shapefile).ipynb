{
 "cells": [
  {
   "cell_type": "markdown",
   "metadata": {},
   "source": [
    "#### Import Modules"
   ]
  },
  {
   "cell_type": "code",
   "execution_count": 3,
   "metadata": {},
   "outputs": [],
   "source": [
    "import geopandas\n",
    "import requests\n",
    "from shapely.geometry import Point"
   ]
  },
  {
   "cell_type": "markdown",
   "metadata": {},
   "source": [
    "#### Pull Data from Google Places API, Convert JSON to Shapefile"
   ]
  },
  {
   "cell_type": "code",
   "execution_count": 13,
   "metadata": {
    "scrolled": true
   },
   "outputs": [
    {
     "name": "stderr",
     "output_type": "stream",
     "text": [
      "C:\\Users\\gregkohler1\\AppData\\Local\\ESRI\\conda\\envs\\arcgispro-py3-clone\\lib\\site-packages\\geopandas\\io\\file.py:299: FutureWarning: pandas.Int64Index is deprecated and will be removed from pandas in a future version. Use pandas.Index with the appropriate dtype instead.\n",
      "  pd.Int64Index,\n"
     ]
    }
   ],
   "source": [
    "#URL for API\n",
    "googleurl = 'https://maps.googleapis.com/maps/api/place/textsearch/json'\n",
    "#Defines query for bus garages in the Twin Cities\n",
    "garagequery = {\n",
    "    'query': \"Bus Garage in Twin Cities\",\n",
    "    'key': 'API-HERE' \n",
    "}\n",
    "\n",
    "#Pull Data from Url\n",
    "googler = requests.get(googleurl, params=garagequery)\n",
    "\n",
    "#Format Data as JSON, Check data status\n",
    "if googler.status_code == 200:\n",
    "    googledata = googler.json()\n",
    "    #Create Blank List to Write JSON Items to\n",
    "    garages = []\n",
    "    #Pulls values from JSON to make geometry for shapefile\n",
    "    for gplace in googledata['results']:\n",
    "        name = gplace['name']\n",
    "        latitude = gplace['geometry']['location']['lat']\n",
    "        longitude = gplace['geometry']['location']['lng']\n",
    "        garages.append({'name': name, 'geometry': Point(longitude, latitude)})\n",
    "else:\n",
    "    print(\"Wrong Status Code\")\n",
    "\n",
    "        #Create geodataframe and writes shapefile to local disk\n",
    "googledataframe = geopandas.GeoDataFrame(garages, geometry='geometry', crs ='WGS84')\n",
    "googledataframe.to_file(r'C:\\Users\\gregkohler1\\Documents\\GIS5571_Files\\Lab1\\Lab1Data\\BusGarages.shp')"
   ]
  },
  {
   "cell_type": "code",
   "execution_count": null,
   "metadata": {},
   "outputs": [],
   "source": []
  }
 ],
 "metadata": {
  "kernelspec": {
   "display_name": "ArcGISPro",
   "language": "Python",
   "name": "python3"
  },
  "language_info": {
   "file_extension": ".py",
   "name": "python",
   "version": "3"
  }
 },
 "nbformat": 4,
 "nbformat_minor": 2
}
