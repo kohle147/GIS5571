{
 "cells": [
  {
   "cell_type": "markdown",
   "metadata": {},
   "source": [
    "#### Import Modules"
   ]
  },
  {
   "cell_type": "code",
   "execution_count": 4,
   "metadata": {},
   "outputs": [],
   "source": [
    "import requests\n",
    "import pandas\n",
    "import json\n",
    "import geopandas\n",
    "import matplotlib.pyplot as plt\n",
    "import urllib\n",
    "import shutil\n",
    "import zipfile\n",
    "from shapely.geometry import Point\n",
    "import os"
   ]
  },
  {
   "cell_type": "markdown",
   "metadata": {},
   "source": [
    "### Download Two Datatsets"
   ]
  },
  {
   "cell_type": "markdown",
   "metadata": {},
   "source": [
    "#### Download Park and Rides & Transit Hubs from MN Geospatial Commons"
   ]
  },
  {
   "cell_type": "code",
   "execution_count": 5,
   "metadata": {},
   "outputs": [],
   "source": [
    "#Shapefile URl\n",
    "mndataurl = r'https://resources.gisdata.mn.gov/pub/gdrs/data/pub/us_mn_state_metc/trans_park_rides_transit_centers/shp_trans_park_rides_transit_centers.zip'\n",
    "#Path to Save Shapefile\n",
    "mnpath = r'C:\\Users\\gregkohler1\\Documents\\GIS5571_Files\\Lab1\\Lab1Data'\n",
    "#Name of Shapefile\n",
    "mnoutput = r'C:\\Users\\gregkohler1\\Documents\\GIS5571_Files\\Lab1\\Lab1Data\\MNTransitHubs.zip'\n",
    "#Get Shapefile from URL\n",
    "mnresponse = requests.get(mndataurl, stream=True)\n",
    "#Writes Shapefile to Local Disk\n",
    "if mnresponse.status_code == 200:\n",
    "    with open(mnoutput, 'wb') as file:\n",
    "        shutil.copyfileobj(mnresponse.raw, file) #\n",
    "#Extract Zip with Shapefiles\n",
    "    with zipfile.ZipFile(mnoutput, 'r') as zip_MN:\n",
    "        zip_MN.extractall(mnpath)\n",
    "else:\n",
    "    print(\"Wrong Status Code\")"
   ]
  },
  {
   "cell_type": "markdown",
   "metadata": {},
   "source": [
    "#### Download Bus Garages from Google Places"
   ]
  },
  {
   "cell_type": "code",
   "execution_count": 7,
   "metadata": {
    "scrolled": true
   },
   "outputs": [
    {
     "name": "stderr",
     "output_type": "stream",
     "text": [
      "C:\\Users\\gregkohler1\\AppData\\Local\\ESRI\\conda\\envs\\arcgispro-py3-clone\\lib\\site-packages\\geopandas\\io\\file.py:299: FutureWarning: pandas.Int64Index is deprecated and will be removed from pandas in a future version. Use pandas.Index with the appropriate dtype instead.\n",
      "  pd.Int64Index,\n"
     ]
    }
   ],
   "source": [
    "#URL for API\n",
    "googleurl = 'https://maps.googleapis.com/maps/api/place/textsearch/json'\n",
    "#Defines query for bus garages in the Twin Cities\n",
    "garagequery = {\n",
    "    'query': \"Bus Garage in Twin Cities\",\n",
    "    'key': 'API-KEY' \n",
    "}\n",
    "\n",
    "#Pull Data from Url\n",
    "googler = requests.get(googleurl, params=garagequery)\n",
    "\n",
    "#Format Data as JSON, Check data status\n",
    "if googler.status_code == 200:\n",
    "    googledata = googler.json()\n",
    "    #Create Blank List to Write JSON Items to\n",
    "    garages = []\n",
    "    #Pulls values from JSON to make geometry for shapefile\n",
    "    for gplace in googledata['results']:\n",
    "        name = gplace['name']\n",
    "        latitude = gplace['geometry']['location']['lat']\n",
    "        longitude = gplace['geometry']['location']['lng']\n",
    "        garages.append({'name': name, 'geometry': Point(longitude, latitude)})\n",
    "else:\n",
    "    print(\"Wrong Status Code\")\n",
    "\n",
    "        #Create geodataframe and writes shapefile to local disk\n",
    "googledataframe = geopandas.GeoDataFrame(garages, geometry='geometry', crs ='WGS84')\n",
    "googledataframe.to_file(r'C:\\Users\\gregkohler1\\Documents\\GIS5571_Files\\Lab1\\Lab1Data\\BusGarages.shp')"
   ]
  },
  {
   "cell_type": "markdown",
   "metadata": {},
   "source": [
    "#### Convert to Same Coordinate Reference System"
   ]
  },
  {
   "cell_type": "code",
   "execution_count": 8,
   "metadata": {
    "scrolled": false
   },
   "outputs": [
    {
     "name": "stderr",
     "output_type": "stream",
     "text": [
      "C:\\Users\\gregkohler1\\AppData\\Local\\ESRI\\conda\\envs\\arcgispro-py3-clone\\lib\\site-packages\\geopandas\\io\\file.py:299: FutureWarning: pandas.Int64Index is deprecated and will be removed from pandas in a future version. Use pandas.Index with the appropriate dtype instead.\n",
      "  pd.Int64Index,\n"
     ]
    }
   ],
   "source": [
    "# Opens Up Both Datasets\n",
    "garagesgdf = geopandas.read_file(r'C:\\Users\\gregkohler1\\Documents\\GIS5571_Files\\Lab1\\Lab1Data\\BusGarages.shp')\n",
    "parkridegdf = geopandas.read_file(r'C:\\Users\\gregkohler1\\Documents\\GIS5571_Files\\Lab1\\Lab1Data\\ParkAndRideLotsTransitCenters.shp')\n",
    "#Converts Both Datasets to Same CRS\n",
    "garagesgdf = garagesgdf.to_crs(\"4326\")\n",
    "parkridegdf = parkridegdf.to_crs(\"4326\")\n",
    "#Saves Both Datasets to New Name with New CRS\n",
    "garagesgdf.to_file(r'C:\\Users\\gregkohler1\\Documents\\GIS5571_Files\\Lab1\\Lab1Data\\BusGarages_NewCRS.shp')"
   ]
  },
  {
   "cell_type": "markdown",
   "metadata": {},
   "source": [
    "#### Clean Up Park & Ride Table"
   ]
  },
  {
   "cell_type": "code",
   "execution_count": 9,
   "metadata": {},
   "outputs": [
    {
     "name": "stderr",
     "output_type": "stream",
     "text": [
      "C:\\Users\\gregkohler1\\AppData\\Local\\ESRI\\conda\\envs\\arcgispro-py3-clone\\lib\\site-packages\\geopandas\\io\\file.py:299: FutureWarning: pandas.Int64Index is deprecated and will be removed from pandas in a future version. Use pandas.Index with the appropriate dtype instead.\n",
      "  pd.Int64Index,\n"
     ]
    }
   ],
   "source": [
    "#Removes Unwanted Columns from parkandride GeoDataFrame\n",
    "deletelist = ['TCode', \"PnRNum\", 'LocDetails', 'YearClose', 'LandOwnr', 'ShrUseDesc','PrkngType', 'CurrentCpc', 'PlanCapc', 'Mpls_Corr', 'Stp_Corr', 'Shelter', 'Bench', 'IndoorWt', 'TrashRec', 'DropOff','BikeRacks', 'BikeLocker', 'RT_Sign', 'Notes', 'created_us', 'created_da', 'last_edite', 'last_edi_1', 'ATIS_ID']\n",
    "parkridegdf = parkridegdf.drop(columns=deletelist, axis=1)\n",
    "#Saves Cleaned Up GeoDataFrame to Shapefile\n",
    "parkridegdf.to_file(r'C:\\Users\\gregkohler1\\Documents\\GIS5571_Files\\Lab1\\Lab1Data\\ParkAndRideLotsTransitCenters_CRSandColumns.shp')"
   ]
  },
  {
   "cell_type": "markdown",
   "metadata": {},
   "source": [
    "#### Join Bus Garages and Park and Rides and saves to Lab1 Geodatabase"
   ]
  },
  {
   "cell_type": "code",
   "execution_count": 10,
   "metadata": {
    "scrolled": false
   },
   "outputs": [
    {
     "data": {
      "text/html": [
       "<div class='gpresult'><h2>Messages</h2><div id='messages' data-messages='[\"Start Time: Sunday, September 24, 2023 4:05:58 PM\",\"Succeeded at Sunday, September 24, 2023 4:06:00 PM (Elapsed Time: 2.51 seconds)\"]' data-show='true'><div id = 'default' /></div></div>"
      ],
      "text/plain": [
       "<Result 'C:\\\\Users\\\\gregkohler1\\\\Documents\\\\GIS5571_Files\\\\Lab1\\\\Lab1.gdb\\\\ParkRideBusGarages_Join'>"
      ]
     },
     "execution_count": 10,
     "metadata": {},
     "output_type": "execute_result"
    }
   ],
   "source": [
    "#Perform Spatial Join\n",
    "arcpy.analysis.SpatialJoin(\n",
    "    target_features=r'C:\\Users\\gregkohler1\\Documents\\GIS5571_Files\\Lab1\\Lab1Data\\ParkAndRideLotsTransitCenters_CRSandColumns.shp',\n",
    "    join_features=r'C:\\Users\\gregkohler1\\Documents\\GIS5571_Files\\Lab1\\Lab1Data\\BusGarages_NewCRS.shp',\n",
    "    out_feature_class=r\"C:\\Users\\gregkohler1\\Documents\\GIS5571_Files\\Lab1\\Lab1.gdb\\ParkRideBusGarages_Join\",\n",
    "    join_operation=\"JOIN_ONE_TO_MANY\",\n",
    "    join_type=\"KEEP_COMMON\",\n",
    "    match_option=\"WITHIN_A_DISTANCE\",\n",
    "    search_radius=\"5 Kilometers\",\n",
    "    distance_field_name=\"\"\n",
    ")"
   ]
  },
  {
   "cell_type": "markdown",
   "metadata": {},
   "source": [
    "#### Rename Joined Field to Bus Garage within 5km"
   ]
  },
  {
   "cell_type": "code",
   "execution_count": 11,
   "metadata": {
    "scrolled": true
   },
   "outputs": [
    {
     "data": {
      "text/html": [
       "<div class='gpresult'><h2>Messages</h2><div id='messages' data-messages='[\"Start Time: Sunday, September 24, 2023 4:06:03 PM\",\"Succeeded at Sunday, September 24, 2023 4:06:03 PM (Elapsed Time: 0.37 seconds)\"]' data-show='true'><div id = 'default' /></div></div>"
      ],
      "text/plain": [
       "<Result 'C:\\\\Users\\\\gregkohler1\\\\Documents\\\\GIS5571_Files\\\\Lab1\\\\Lab1.gdb\\\\ParkRideBusGarages_Join'>"
      ]
     },
     "execution_count": 11,
     "metadata": {},
     "output_type": "execute_result"
    }
   ],
   "source": [
    "#Edits Name of New Joined Field to be Bus Garages Within 5km of Park and Rides\n",
    "edit = arcpy.da.Editor(arcpy.env.workspace)                                 \n",
    "arcpy.AlterField_management(in_table=r'C:\\Users\\gregkohler1\\Documents\\GIS5571_Files\\Lab1\\Lab1.gdb\\ParkRideBusGarages_Join',\n",
    "                            field='name_1',\n",
    "                            new_field_name='BusGaragewithin5km',\n",
    "                            new_field_alias='Bus Garage Within 5km')"
   ]
  },
  {
   "cell_type": "markdown",
   "metadata": {},
   "source": [
    "#### Write Out Table"
   ]
  },
  {
   "cell_type": "code",
   "execution_count": 12,
   "metadata": {
    "scrolled": true
   },
   "outputs": [
    {
     "data": {
      "text/html": [
       "<div>\n",
       "<style scoped>\n",
       "    .dataframe tbody tr th:only-of-type {\n",
       "        vertical-align: middle;\n",
       "    }\n",
       "\n",
       "    .dataframe tbody tr th {\n",
       "        vertical-align: top;\n",
       "    }\n",
       "\n",
       "    .dataframe thead th {\n",
       "        text-align: right;\n",
       "    }\n",
       "</style>\n",
       "<table border=\"1\" class=\"dataframe\">\n",
       "  <thead>\n",
       "    <tr style=\"text-align: right;\">\n",
       "      <th></th>\n",
       "      <th>OBJECTID</th>\n",
       "      <th>Shape</th>\n",
       "      <th>Join_Count</th>\n",
       "      <th>TARGET_FID</th>\n",
       "      <th>JOIN_FID</th>\n",
       "      <th>Name</th>\n",
       "      <th>FcltyType</th>\n",
       "      <th>Status</th>\n",
       "      <th>Address</th>\n",
       "      <th>City</th>\n",
       "      <th>Provider</th>\n",
       "      <th>YearOpen</th>\n",
       "      <th>FcltyOwnr</th>\n",
       "      <th>SharedUse</th>\n",
       "      <th>x_coord</th>\n",
       "      <th>y_coord</th>\n",
       "      <th>BusGaragewithin5km</th>\n",
       "    </tr>\n",
       "  </thead>\n",
       "  <tbody>\n",
       "    <tr>\n",
       "      <th>0</th>\n",
       "      <td>1</td>\n",
       "      <td>(-93.2310461697449, 44.85567435019118)</td>\n",
       "      <td>1</td>\n",
       "      <td>1</td>\n",
       "      <td>1</td>\n",
       "      <td>30th Ave Station Park &amp; Ride</td>\n",
       "      <td>PR</td>\n",
       "      <td>Open</td>\n",
       "      <td>8101 Winstead Way</td>\n",
       "      <td>Bloomington</td>\n",
       "      <td>Metro Transit Rail</td>\n",
       "      <td>2004.0</td>\n",
       "      <td>Metropolitan Council</td>\n",
       "      <td>N</td>\n",
       "      <td>-93.231054</td>\n",
       "      <td>44.855682</td>\n",
       "      <td>Metro Transit South Garage</td>\n",
       "    </tr>\n",
       "    <tr>\n",
       "      <th>1</th>\n",
       "      <td>2</td>\n",
       "      <td>(-93.22963590956954, 44.934764137554964)</td>\n",
       "      <td>1</td>\n",
       "      <td>2</td>\n",
       "      <td>14</td>\n",
       "      <td>38th Street Station Transit Center</td>\n",
       "      <td>TC</td>\n",
       "      <td>Open</td>\n",
       "      <td>2902 38th St E</td>\n",
       "      <td>Minneapolis</td>\n",
       "      <td>Metro Transit</td>\n",
       "      <td>2004.0</td>\n",
       "      <td>Metropolitan Council</td>\n",
       "      <td>N</td>\n",
       "      <td>-93.229644</td>\n",
       "      <td>44.934772</td>\n",
       "      <td>Greyhound: Bus Stop</td>\n",
       "    </tr>\n",
       "    <tr>\n",
       "      <th>2</th>\n",
       "      <td>3</td>\n",
       "      <td>(-93.33109257905926, 45.07305937628922)</td>\n",
       "      <td>1</td>\n",
       "      <td>5</td>\n",
       "      <td>9</td>\n",
       "      <td>65th Ave &amp; Brooklyn Blvd</td>\n",
       "      <td>PR</td>\n",
       "      <td>Open</td>\n",
       "      <td>6503 Brooklyn Blvd</td>\n",
       "      <td>Brooklyn Center</td>\n",
       "      <td>Metro Transit</td>\n",
       "      <td>1995.0</td>\n",
       "      <td>Metropolitan Council</td>\n",
       "      <td>N</td>\n",
       "      <td>-93.331100</td>\n",
       "      <td>45.073067</td>\n",
       "      <td>Metro Transit Martin J Ruter Garage</td>\n",
       "    </tr>\n",
       "    <tr>\n",
       "      <th>3</th>\n",
       "      <td>4</td>\n",
       "      <td>(-93.28735759557657, 45.08839555111382)</td>\n",
       "      <td>1</td>\n",
       "      <td>6</td>\n",
       "      <td>9</td>\n",
       "      <td>Hwy 252 &amp; 73rd Ave N</td>\n",
       "      <td>PR</td>\n",
       "      <td>Inactive</td>\n",
       "      <td>7317 West River Rd</td>\n",
       "      <td>Brooklyn Park</td>\n",
       "      <td>Metro Transit</td>\n",
       "      <td>1991.0</td>\n",
       "      <td>Metropolitan Council</td>\n",
       "      <td>N</td>\n",
       "      <td>-93.287365</td>\n",
       "      <td>45.088404</td>\n",
       "      <td>Metro Transit Martin J Ruter Garage</td>\n",
       "    </tr>\n",
       "    <tr>\n",
       "      <th>4</th>\n",
       "      <td>5</td>\n",
       "      <td>(-93.02439401896879, 44.996880027990926)</td>\n",
       "      <td>1</td>\n",
       "      <td>8</td>\n",
       "      <td>17</td>\n",
       "      <td>Aldrich Arena</td>\n",
       "      <td>PR</td>\n",
       "      <td>Closed</td>\n",
       "      <td>1850 White Bear Ave</td>\n",
       "      <td>Maplewood</td>\n",
       "      <td></td>\n",
       "      <td>2002.0</td>\n",
       "      <td></td>\n",
       "      <td></td>\n",
       "      <td>-93.024402</td>\n",
       "      <td>44.996888</td>\n",
       "      <td>ISD 622 Transportation</td>\n",
       "    </tr>\n",
       "    <tr>\n",
       "      <th>...</th>\n",
       "      <td>...</td>\n",
       "      <td>...</td>\n",
       "      <td>...</td>\n",
       "      <td>...</td>\n",
       "      <td>...</td>\n",
       "      <td>...</td>\n",
       "      <td>...</td>\n",
       "      <td>...</td>\n",
       "      <td>...</td>\n",
       "      <td>...</td>\n",
       "      <td>...</td>\n",
       "      <td>...</td>\n",
       "      <td>...</td>\n",
       "      <td>...</td>\n",
       "      <td>...</td>\n",
       "      <td>...</td>\n",
       "      <td>...</td>\n",
       "    </tr>\n",
       "    <tr>\n",
       "      <th>111</th>\n",
       "      <td>112</td>\n",
       "      <td>(-93.2980565250885, 44.950244096887616)</td>\n",
       "      <td>1</td>\n",
       "      <td>174</td>\n",
       "      <td>13</td>\n",
       "      <td>Uptown Transit Station</td>\n",
       "      <td>TC</td>\n",
       "      <td>Open</td>\n",
       "      <td>2855 Hennepin Ave S</td>\n",
       "      <td>Minneapolis</td>\n",
       "      <td>Metro Transit</td>\n",
       "      <td>2001.0</td>\n",
       "      <td>Metropolitan Council</td>\n",
       "      <td>N</td>\n",
       "      <td>-93.298064</td>\n",
       "      <td>44.950252</td>\n",
       "      <td>Metro Transit North Loop Garage</td>\n",
       "    </tr>\n",
       "    <tr>\n",
       "      <th>112</th>\n",
       "      <td>113</td>\n",
       "      <td>(-93.2980565250885, 44.950244096887616)</td>\n",
       "      <td>1</td>\n",
       "      <td>174</td>\n",
       "      <td>16</td>\n",
       "      <td>Uptown Transit Station</td>\n",
       "      <td>TC</td>\n",
       "      <td>Open</td>\n",
       "      <td>2855 Hennepin Ave S</td>\n",
       "      <td>Minneapolis</td>\n",
       "      <td>Metro Transit</td>\n",
       "      <td>2001.0</td>\n",
       "      <td>Metropolitan Council</td>\n",
       "      <td>N</td>\n",
       "      <td>-93.298064</td>\n",
       "      <td>44.950252</td>\n",
       "      <td>Fourth Street North Transit Station</td>\n",
       "    </tr>\n",
       "    <tr>\n",
       "      <th>113</th>\n",
       "      <td>114</td>\n",
       "      <td>(-93.2980565250885, 44.950244096887616)</td>\n",
       "      <td>1</td>\n",
       "      <td>174</td>\n",
       "      <td>18</td>\n",
       "      <td>Uptown Transit Station</td>\n",
       "      <td>TC</td>\n",
       "      <td>Open</td>\n",
       "      <td>2855 Hennepin Ave S</td>\n",
       "      <td>Minneapolis</td>\n",
       "      <td>Metro Transit</td>\n",
       "      <td>2001.0</td>\n",
       "      <td>Metropolitan Council</td>\n",
       "      <td>N</td>\n",
       "      <td>-93.298064</td>\n",
       "      <td>44.950252</td>\n",
       "      <td>Marquette Av S At 5 St S Sw</td>\n",
       "    </tr>\n",
       "    <tr>\n",
       "      <th>114</th>\n",
       "      <td>115</td>\n",
       "      <td>(-93.04089733484409, 45.01398056385199)</td>\n",
       "      <td>1</td>\n",
       "      <td>189</td>\n",
       "      <td>17</td>\n",
       "      <td>Hwy 36 Station</td>\n",
       "      <td>PR</td>\n",
       "      <td>Future</td>\n",
       "      <td></td>\n",
       "      <td>Maplewood</td>\n",
       "      <td>Metro Transit</td>\n",
       "      <td>0.0</td>\n",
       "      <td></td>\n",
       "      <td>N</td>\n",
       "      <td>0.000000</td>\n",
       "      <td>0.000000</td>\n",
       "      <td>ISD 622 Transportation</td>\n",
       "    </tr>\n",
       "    <tr>\n",
       "      <th>115</th>\n",
       "      <td>116</td>\n",
       "      <td>(-93.27093762706977, 45.078739233528836)</td>\n",
       "      <td>1</td>\n",
       "      <td>191</td>\n",
       "      <td>9</td>\n",
       "      <td>Fridley Station East Park &amp; Ride</td>\n",
       "      <td>PR</td>\n",
       "      <td>Open</td>\n",
       "      <td>6050 Main Street</td>\n",
       "      <td>Fridley</td>\n",
       "      <td>Metro Transit</td>\n",
       "      <td>2009.0</td>\n",
       "      <td>Metropolitan Council</td>\n",
       "      <td>N</td>\n",
       "      <td>-93.270938</td>\n",
       "      <td>45.078739</td>\n",
       "      <td>Metro Transit Martin J Ruter Garage</td>\n",
       "    </tr>\n",
       "  </tbody>\n",
       "</table>\n",
       "<p>116 rows × 17 columns</p>\n",
       "</div>"
      ],
      "text/plain": [
       "     OBJECTID  ...                   BusGaragewithin5km\n",
       "0           1  ...           Metro Transit South Garage\n",
       "1           2  ...                  Greyhound: Bus Stop\n",
       "2           3  ...  Metro Transit Martin J Ruter Garage\n",
       "3           4  ...  Metro Transit Martin J Ruter Garage\n",
       "4           5  ...               ISD 622 Transportation\n",
       "..        ...  ...                                  ...\n",
       "111       112  ...      Metro Transit North Loop Garage\n",
       "112       113  ...  Fourth Street North Transit Station\n",
       "113       114  ...          Marquette Av S At 5 St S Sw\n",
       "114       115  ...               ISD 622 Transportation\n",
       "115       116  ...  Metro Transit Martin J Ruter Garage\n",
       "\n",
       "[116 rows x 17 columns]"
      ]
     },
     "execution_count": 12,
     "metadata": {},
     "output_type": "execute_result"
    }
   ],
   "source": [
    "#Set feature class\n",
    "joinpath = \"ParkRideBusGarages_Join\"\n",
    "# Create search cursor to go through the table and pull out fields and data.\n",
    "fields = [field.name for field in arcpy.ListFields(joinpath)]\n",
    "data = [row for row in arcpy.da.SearchCursor(joinpath, fields)]\n",
    "# Convert data to dataframe\n",
    "joindf = pandas.DataFrame(data, columns=fields)\n",
    "# Print table\n",
    "joindf"
   ]
  },
  {
   "cell_type": "code",
   "execution_count": null,
   "metadata": {},
   "outputs": [],
   "source": []
  }
 ],
 "metadata": {
  "kernelspec": {
   "display_name": "ArcGISPro",
   "language": "Python",
   "name": "python3"
  },
  "language_info": {
   "file_extension": ".py",
   "name": "python",
   "version": "3"
  }
 },
 "nbformat": 4,
 "nbformat_minor": 2
}
